{
 "cells": [
  {
   "cell_type": "code",
   "execution_count": 1,
   "id": "03a22ef4",
   "metadata": {},
   "outputs": [
    {
     "name": "stderr",
     "output_type": "stream",
     "text": [
      "/var/folders/mn/mcvxxr2d159f1pjkz_561_km0000gn/T/ipykernel_57581/1025224679.py:1: DeprecationWarning: \n",
      "Pyarrow will become a required dependency of pandas in the next major release of pandas (pandas 3.0),\n",
      "(to allow more performant data types, such as the Arrow string type, and better interoperability with other libraries)\n",
      "but was not found to be installed on your system.\n",
      "If this would cause problems for you,\n",
      "please provide us feedback at https://github.com/pandas-dev/pandas/issues/54466\n",
      "        \n",
      "  import pandas as pd\n"
     ]
    }
   ],
   "source": [
    "import pandas as pd\n",
    "from gensim.models.doc2vec import Doc2Vec, TaggedDocument\n",
    "from gensim.test.utils import common_texts"
   ]
  },
  {
   "cell_type": "code",
   "execution_count": 2,
   "id": "86fe8e48",
   "metadata": {},
   "outputs": [
    {
     "data": {
      "text/html": [
       "<div>\n",
       "<style scoped>\n",
       "    .dataframe tbody tr th:only-of-type {\n",
       "        vertical-align: middle;\n",
       "    }\n",
       "\n",
       "    .dataframe tbody tr th {\n",
       "        vertical-align: top;\n",
       "    }\n",
       "\n",
       "    .dataframe thead th {\n",
       "        text-align: right;\n",
       "    }\n",
       "</style>\n",
       "<table border=\"1\" class=\"dataframe\">\n",
       "  <thead>\n",
       "    <tr style=\"text-align: right;\">\n",
       "      <th></th>\n",
       "      <th>id</th>\n",
       "      <th>context</th>\n",
       "      <th>isfake</th>\n",
       "      <th>nchar_real</th>\n",
       "      <th>nchar_fake</th>\n",
       "    </tr>\n",
       "  </thead>\n",
       "  <tbody>\n",
       "    <tr>\n",
       "      <th>0</th>\n",
       "      <td>000128042337</td>\n",
       "      <td>朝日新聞など各社の報道によれば、宅配便最大手「ヤマト運輸」が日本郵政公社を相手取り、大手コン...</td>\n",
       "      <td>0</td>\n",
       "      <td>541</td>\n",
       "      <td>0</td>\n",
       "    </tr>\n",
       "    <tr>\n",
       "      <th>1</th>\n",
       "      <td>00012b7a8314</td>\n",
       "      <td>11月5日の各社報道によると、諫早湾干拓事業は諫早海人（諫早湾の「海」）に囲まれる大洋に位置...</td>\n",
       "      <td>2</td>\n",
       "      <td>0</td>\n",
       "      <td>385</td>\n",
       "    </tr>\n",
       "    <tr>\n",
       "      <th>2</th>\n",
       "      <td>0005fb48880b</td>\n",
       "      <td>産経新聞、中日新聞によると、2004年から2005年まで、この大会による3年おきの開催を、2...</td>\n",
       "      <td>2</td>\n",
       "      <td>0</td>\n",
       "      <td>255</td>\n",
       "    </tr>\n",
       "    <tr>\n",
       "      <th>3</th>\n",
       "      <td>00087f9e14ab</td>\n",
       "      <td>開催地のリオデジャネイロ市に対して、大会期間中のリオデジャネイロオリンピックに関する公式発表...</td>\n",
       "      <td>1</td>\n",
       "      <td>435</td>\n",
       "      <td>218</td>\n",
       "    </tr>\n",
       "    <tr>\n",
       "      <th>4</th>\n",
       "      <td>000c9ac3d552</td>\n",
       "      <td>毎日新聞・時事通信によると、2006年2月13日には、グッドウィル・グッゲンハイム・アン・ハ...</td>\n",
       "      <td>2</td>\n",
       "      <td>0</td>\n",
       "      <td>248</td>\n",
       "    </tr>\n",
       "    <tr>\n",
       "      <th>...</th>\n",
       "      <td>...</td>\n",
       "      <td>...</td>\n",
       "      <td>...</td>\n",
       "      <td>...</td>\n",
       "      <td>...</td>\n",
       "    </tr>\n",
       "    <tr>\n",
       "      <th>13035</th>\n",
       "      <td>ffc1ab0492e3</td>\n",
       "      <td>広島市の健康福祉企画課の説明では11月1日から12月10日の間に、市内各区役所に22人の派遣...</td>\n",
       "      <td>1</td>\n",
       "      <td>373</td>\n",
       "      <td>665</td>\n",
       "    </tr>\n",
       "    <tr>\n",
       "      <th>13036</th>\n",
       "      <td>ffc40591a6ae</td>\n",
       "      <td>日本経済新聞社によるとソフトバンクモバイルは5日、月額基本料金が980円（税込）の新料金プラ...</td>\n",
       "      <td>0</td>\n",
       "      <td>290</td>\n",
       "      <td>0</td>\n",
       "    </tr>\n",
       "    <tr>\n",
       "      <th>13037</th>\n",
       "      <td>ffcabd663b9f</td>\n",
       "      <td>東京新聞によると※は日本生命所属のキャッチコピー・ロゴ。10日本生命（株）。本社には同社の主...</td>\n",
       "      <td>2</td>\n",
       "      <td>0</td>\n",
       "      <td>212</td>\n",
       "    </tr>\n",
       "    <tr>\n",
       "      <th>13038</th>\n",
       "      <td>ffe993d53780</td>\n",
       "      <td>日刊スポーツによると、1996年の平塚市議会で木原さんは、平塚市内の病院に入院していた際、「...</td>\n",
       "      <td>2</td>\n",
       "      <td>0</td>\n",
       "      <td>240</td>\n",
       "    </tr>\n",
       "    <tr>\n",
       "      <th>13039</th>\n",
       "      <td>fff20532e008</td>\n",
       "      <td>30日付の官報によると、NOVAの新学習センターは、1室4,300平方メートルで、NOVAの...</td>\n",
       "      <td>2</td>\n",
       "      <td>0</td>\n",
       "      <td>936</td>\n",
       "    </tr>\n",
       "  </tbody>\n",
       "</table>\n",
       "<p>13040 rows × 5 columns</p>\n",
       "</div>"
      ],
      "text/plain": [
       "                 id                                            context  \\\n",
       "0      000128042337  朝日新聞など各社の報道によれば、宅配便最大手「ヤマト運輸」が日本郵政公社を相手取り、大手コン...   \n",
       "1      00012b7a8314  11月5日の各社報道によると、諫早湾干拓事業は諫早海人（諫早湾の「海」）に囲まれる大洋に位置...   \n",
       "2      0005fb48880b  産経新聞、中日新聞によると、2004年から2005年まで、この大会による3年おきの開催を、2...   \n",
       "3      00087f9e14ab  開催地のリオデジャネイロ市に対して、大会期間中のリオデジャネイロオリンピックに関する公式発表...   \n",
       "4      000c9ac3d552  毎日新聞・時事通信によると、2006年2月13日には、グッドウィル・グッゲンハイム・アン・ハ...   \n",
       "...             ...                                                ...   \n",
       "13035  ffc1ab0492e3  広島市の健康福祉企画課の説明では11月1日から12月10日の間に、市内各区役所に22人の派遣...   \n",
       "13036  ffc40591a6ae  日本経済新聞社によるとソフトバンクモバイルは5日、月額基本料金が980円（税込）の新料金プラ...   \n",
       "13037  ffcabd663b9f  東京新聞によると※は日本生命所属のキャッチコピー・ロゴ。10日本生命（株）。本社には同社の主...   \n",
       "13038  ffe993d53780  日刊スポーツによると、1996年の平塚市議会で木原さんは、平塚市内の病院に入院していた際、「...   \n",
       "13039  fff20532e008  30日付の官報によると、NOVAの新学習センターは、1室4,300平方メートルで、NOVAの...   \n",
       "\n",
       "       isfake  nchar_real  nchar_fake  \n",
       "0           0         541           0  \n",
       "1           2           0         385  \n",
       "2           2           0         255  \n",
       "3           1         435         218  \n",
       "4           2           0         248  \n",
       "...       ...         ...         ...  \n",
       "13035       1         373         665  \n",
       "13036       0         290           0  \n",
       "13037       2           0         212  \n",
       "13038       2           0         240  \n",
       "13039       2           0         936  \n",
       "\n",
       "[13040 rows x 5 columns]"
      ]
     },
     "execution_count": 2,
     "metadata": {},
     "output_type": "execute_result"
    }
   ],
   "source": [
    "dataset = pd.read_csv(\"./Japanese-Fakenews-Dataset/fakenews.csv\")\n",
    "dataset"
   ]
  },
  {
   "cell_type": "code",
   "execution_count": 3,
   "id": "2a1cba96",
   "metadata": {},
   "outputs": [
    {
     "data": {
      "text/plain": [
       "1        11月5日の各社報道によると、諫早湾干拓事業は諫早海人（諫早湾の「海」）に囲まれる大洋に位置...\n",
       "2        産経新聞、中日新聞によると、2004年から2005年まで、この大会による3年おきの開催を、2...\n",
       "4        毎日新聞・時事通信によると、2006年2月13日には、グッドウィル・グッゲンハイム・アン・ハ...\n",
       "6        日テレNEWS24によると、事件が殺人事件として扱われる可能性もあり、本多さん本人が「（事件...\n",
       "7        日刊スポーツによるとカナダの鉱滓調査会社 (Median AtoMartinet Syste...\n",
       "                               ...                        \n",
       "13031    スポーツ報知新聞によると、6日午後2時より、東京都渋谷区の地下鉄東西線の地下道に落ちたと報道...\n",
       "13033    東急電鉄によると、「山手線の脱線によって発生する多くの事故は、山手線の安全への意識の向上を目...\n",
       "13037    東京新聞によると※は日本生命所属のキャッチコピー・ロゴ。10日本生命（株）。本社には同社の主...\n",
       "13038    日刊スポーツによると、1996年の平塚市議会で木原さんは、平塚市内の病院に入院していた際、「...\n",
       "13039    30日付の官報によると、NOVAの新学習センターは、1室4,300平方メートルで、NOVAの...\n",
       "Name: context, Length: 4671, dtype: object"
      ]
     },
     "execution_count": 3,
     "metadata": {},
     "output_type": "execute_result"
    }
   ],
   "source": [
    "fake_news = dataset[dataset.isfake == 2].context\n",
    "fake_news"
   ]
  },
  {
   "cell_type": "code",
   "execution_count": 4,
   "id": "90b4378e",
   "metadata": {},
   "outputs": [],
   "source": [
    "fake_news.to_csv(\"./Japanese-Fakenews-Dataset/fake_news.csv\")"
   ]
  },
  {
   "cell_type": "code",
   "execution_count": 18,
   "id": "9183a6b1",
   "metadata": {},
   "outputs": [
    {
     "ename": "NameError",
     "evalue": "name 'AutoTokenizer' is not defined",
     "output_type": "error",
     "traceback": [
      "\u001b[1;31m---------------------------------------------------------------------------\u001b[0m",
      "\u001b[1;31mNameError\u001b[0m                                 Traceback (most recent call last)",
      "Cell \u001b[1;32mIn[18], line 2\u001b[0m\n\u001b[0;32m      1\u001b[0m news_list \u001b[38;5;241m=\u001b[39m true_news\u001b[38;5;241m.\u001b[39mto_list()\n\u001b[1;32m----> 2\u001b[0m tokenizer \u001b[38;5;241m=\u001b[39m \u001b[43mAutoTokenizer\u001b[49m\u001b[38;5;241m.\u001b[39mfrom_pretrained(\u001b[38;5;124m\"\u001b[39m\u001b[38;5;124mnlp-waseda/roberta-base-japanese\u001b[39m\u001b[38;5;124m\"\u001b[39m)\n\u001b[0;32m      3\u001b[0m news_list \u001b[38;5;241m=\u001b[39m [tokenizer\u001b[38;5;241m.\u001b[39mtokenize(news) \u001b[38;5;28;01mfor\u001b[39;00m news \u001b[38;5;129;01min\u001b[39;00m news_list]\n\u001b[0;32m      4\u001b[0m news_list\n",
      "\u001b[1;31mNameError\u001b[0m: name 'AutoTokenizer' is not defined"
     ]
    }
   ],
   "source": [
    "news_list = true_news.to_list()\n",
    "owakati = MeCab.Tagger('-Owakati')\n",
    "news_list = [tokenizer.tokenize(news) for news in news_list]\n",
    "news_list"
   ]
  },
  {
   "cell_type": "code",
   "execution_count": 16,
   "id": "928f5f49",
   "metadata": {},
   "outputs": [
    {
     "data": {
      "text/plain": [
       "[['human', 'interface', 'computer'],\n",
       " ['survey', 'user', 'computer', 'system', 'response', 'time'],\n",
       " ['eps', 'user', 'interface', 'system'],\n",
       " ['system', 'human', 'system', 'eps'],\n",
       " ['user', 'response', 'time'],\n",
       " ['trees'],\n",
       " ['graph', 'trees'],\n",
       " ['graph', 'minors', 'trees'],\n",
       " ['graph', 'minors', 'survey']]"
      ]
     },
     "execution_count": 16,
     "metadata": {},
     "output_type": "execute_result"
    }
   ],
   "source": [
    "# [TaggedDocument(TaggedDocument(doc, [i]) for i, doc in enumerate(news_list))]"
   ]
  },
  {
   "cell_type": "code",
   "execution_count": 3,
   "id": "665eb146",
   "metadata": {},
   "outputs": [
    {
     "ename": "NameError",
     "evalue": "name 'news_list' is not defined",
     "output_type": "error",
     "traceback": [
      "\u001b[0;31m---------------------------------------------------------------------------\u001b[0m",
      "\u001b[0;31mNameError\u001b[0m                                 Traceback (most recent call last)",
      "Cell \u001b[0;32mIn[3], line 1\u001b[0m\n\u001b[0;32m----> 1\u001b[0m doc_to_vector \u001b[38;5;241m=\u001b[39m Doc2Vec(\u001b[43mnews_list\u001b[49m)\n",
      "\u001b[0;31mNameError\u001b[0m: name 'news_list' is not defined"
     ]
    }
   ],
   "source": [
    "doc_to_vector = Doc2Vec(news_list)"
   ]
  },
  {
   "cell_type": "code",
   "execution_count": null,
   "id": "c3b537d2",
   "metadata": {},
   "outputs": [],
   "source": []
  }
 ],
 "metadata": {
  "kernelspec": {
   "display_name": ".venv",
   "language": "python",
   "name": "python3"
  },
  "language_info": {
   "codemirror_mode": {
    "name": "ipython",
    "version": 3
   },
   "file_extension": ".py",
   "mimetype": "text/x-python",
   "name": "python",
   "nbconvert_exporter": "python",
   "pygments_lexer": "ipython3",
   "version": "3.11.6"
  }
 },
 "nbformat": 4,
 "nbformat_minor": 5
}
